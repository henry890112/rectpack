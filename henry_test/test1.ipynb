{
 "cells": [
  {
   "cell_type": "code",
   "execution_count": 54,
   "metadata": {},
   "outputs": [
    {
     "name": "stdout",
     "output_type": "stream",
     "text": [
      "(300, 450)\n",
      "(80, 40)\n",
      "(200, 150)\n"
     ]
    }
   ],
   "source": [
    "from rectpack import newPacker\n",
    "\n",
    "'''\n",
    "turp = 0\n",
    "orange = 1\n",
    "cucumber = 2\n",
    "'''\n",
    "\n",
    "rectangles = [(100, 30, 0), (40, 60, 1), (30, 30, 2),(70, 70, 2), (100, 50, 1), (30, 30, 0)]\n",
    "bins = [(300, 450), (80, 40), (200, 150)]\n",
    "\n",
    "packer = newPacker()\n",
    "\n",
    "# Add the rectangles to packing queue\n",
    "for r in rectangles:\n",
    "\tpacker.add_rect(*r)\n",
    "\n",
    "# Add the bins where the rectangles will be placed\n",
    "for b in bins:\n",
    "\tprint(b)\n",
    "\tpacker.add_bin(*b)\n",
    "\n",
    "# Start packing\n",
    "'''\n",
    "PackingMode.Offline: The set of rectangles is known beforehand, packing won't start until pack() is called.\n",
    "'''\n",
    "packer.pack()"
   ]
  },
  {
   "attachments": {},
   "cell_type": "markdown",
   "metadata": {},
   "source": [
    "## packer.rect_list(): only use in offline\n",
    "Returns the list of packed rectangles, each one represented by the tuple "
   ]
  },
  {
   "cell_type": "code",
   "execution_count": 55,
   "metadata": {},
   "outputs": [
    {
     "name": "stdout",
     "output_type": "stream",
     "text": [
      "[(0, 0, 0, 100, 50, 1), (0, 100, 0, 70, 70, 2), (0, 0, 50, 100, 30, 0), (0, 170, 0, 60, 40, 1), (0, 230, 0, 30, 30, 2), (0, 260, 0, 30, 30, 0)]\n"
     ]
    }
   ],
   "source": [
    "# Full rectangle list\n",
    "all_rects = packer.rect_list()\n",
    "for rect in all_rects:\n",
    "\tb, x, y, w, h, rid = rect\n",
    "print(all_rects)\n",
    "# b - Bin index\n",
    "# x - Rectangle bottom-left corner x coordinate\n",
    "# y - Rectangle bottom-left corner y coordinate\n",
    "# w - Rectangle width\n",
    "# h - Rectangle height\n",
    "# rid - User asigned rectangle id or None"
   ]
  },
  {
   "cell_type": "code",
   "execution_count": 56,
   "metadata": {},
   "outputs": [],
   "source": [
    "# use matplotlib to plot the rectangles\n",
    "import matplotlib.pyplot as plt\n",
    "from matplotlib import patches\n",
    "\n",
    "class for_static_plot_rectangle:\n",
    "    def __init__(self):\n",
    "        self.width = 200\n",
    "        self.height = 300\n",
    "        pass\n",
    "    def plot(self, all_rects):\n",
    "        fig = plt.figure(figsize=(30, 10))\n",
    "        ax = [fig.add_subplot(131, aspect='equal'),\n",
    "                fig.add_subplot(132, aspect='equal'),\n",
    "                fig.add_subplot(133, aspect='equal')]\n",
    "        # set a title for the plot\n",
    "        for ix, a in enumerate(ax):\n",
    "            a.set_xlim(0, self.width)\n",
    "            a.set_ylim(0, self.height)\n",
    "            a.add_patch(patches.Rectangle((0, 0), width=self.width, height=self.height, color='white', fill=False))\n",
    "            a.title.set_text('Bin {}'.format(ix))\n",
    "        # add a rectangle\n",
    "        for rect in all_rects:\n",
    "            b, x, y, w, h, rid = rect\n",
    "            # fill the rectangle and add a label and a black border\n",
    "            rect = patches.Rectangle((x, y), w, h, fill=False, color='r')\n",
    "            # add the black text  in the center of the rectangle\n",
    "            ax[rid].text(x+w/2, y+h/2, rid, horizontalalignment='center', verticalalignment='center', color='black')\n",
    "            # print(rid)\n",
    "            ax[rid].add_patch(rect)\n",
    "      \n",
    "        # show the plot\n",
    "        plt.show()\n"
   ]
  },
  {
   "cell_type": "code",
   "execution_count": 57,
   "metadata": {},
   "outputs": [
    {
     "data": {
      "image/png": "[encoded data removed]",
      "text/plain": [
       "<Figure size 2160x720 with 3 Axes>"
      ]
     },
     "metadata": {
      "needs_background": "light"
     },
     "output_type": "display_data"
    }
   ],
   "source": [
    "all_rects = packer.rect_list()\n",
    "for_static_plot_rectangle().plot(all_rects)"
   ]
  },
  {
   "cell_type": "code",
   "execution_count": 58,
   "metadata": {},
   "outputs": [
    {
     "name": "stdout",
     "output_type": "stream",
     "text": [
      "None\n",
      "R(0, 0, 100, 50)\n",
      "R(100, 0, 70, 70)\n",
      "R(0, 50, 100, 30)\n",
      "R(170, 0, 60, 40)\n",
      "R(230, 0, 30, 30)\n",
      "R(260, 0, 30, 30)\n"
     ]
    }
   ],
   "source": [
    "for abin in packer:\n",
    "  print(abin.bid) # Bin id if it has one\n",
    "  for rect in abin:\n",
    "    print(rect)"
   ]
  },
  {
   "attachments": {},
   "cell_type": "markdown",
   "metadata": {},
   "source": [
    "## offline done\n",
    "---"
   ]
  },
  {
   "attachments": {},
   "cell_type": "markdown",
   "metadata": {},
   "source": [
    "# new dynamic "
   ]
  },
  {
   "attachments": {},
   "cell_type": "markdown",
   "metadata": {},
   "source": [
    "### init the packer and the bin "
   ]
  },
  {
   "cell_type": "code",
   "execution_count": 1,
   "metadata": {},
   "outputs": [],
   "source": [
    "from rectpack import newPacker\n",
    "\n",
    "N_BINS = 1\n",
    "BIN_WIDTH = 30\n",
    "BIN_HEIGHT = 30\n",
    "\n",
    "class Enum(tuple): \n",
    "    __getattr__ = tuple.index\n",
    "    \n",
    "PackingMode = Enum([\"Online\", \"Offline\"])\n",
    "PackingBin = Enum([\"BNF\", \"BFF\", \"BBF\", \"Global\"])\n",
    "\n",
    "packer0 = newPacker(\n",
    "    mode=PackingMode.Online,\n",
    "    bin_algo=PackingBin.BBF,\n",
    "    rotation=False,\n",
    ")\n",
    "\n",
    "packer1 = newPacker(\n",
    "    mode=PackingMode.Online,\n",
    "    bin_algo=PackingBin.BBF,    \n",
    "    rotation=False,\n",
    ")\n",
    "'''\n",
    "要先分好rectangles類別  0: turp, 1: orange, 2: cucumber\n",
    "'''\n",
    "for _ in range(N_BINS):\n",
    "    packer0.add_bin(width=BIN_WIDTH, height=BIN_HEIGHT)\n",
    "    packer1.add_bin(width=BIN_WIDTH, height=BIN_HEIGHT)"
   ]
  },
  {
   "attachments": {},
   "cell_type": "markdown",
   "metadata": {},
   "source": [
    "### plot in plt"
   ]
  },
  {
   "cell_type": "code",
   "execution_count": 2,
   "metadata": {},
   "outputs": [],
   "source": [
    "import matplotlib.pyplot as plt\n",
    "from matplotlib import patches\n",
    "\n",
    "def plot(all_rects):\n",
    "\n",
    "    fig = plt.figure(figsize=(5, 5))\n",
    "    ax = fig.add_subplot(111, aspect='equal')\n",
    "    # set a title for the plot\n",
    "    ax.set_xlim(0, BIN_WIDTH)\n",
    "    ax.set_ylim(0, BIN_HEIGHT)\n",
    "    ax.add_patch(patches.Rectangle((0, 0), width=BIN_WIDTH, height=BIN_HEIGHT, color='white', fill=False))\n",
    "\n",
    "\n",
    "    # add a rectangle\n",
    "    for rect in all_rects:\n",
    "        if len(all_rects) == 0:\n",
    "            break\n",
    "        b, x, y, w, h, rid = rect\n",
    "        # fill the rectangle and add a label and a black border\n",
    "        rect = patches.Rectangle((x, y), w, h, fill=False, color='r')\n",
    "        # add the black text  in the center of the rectangle\n",
    "        ax.text(x+w/2, y+h/2, rid, horizontalalignment='center', verticalalignment='center', color='black')\n",
    "        # print(rid)\n",
    "        ax.add_patch(rect)\n",
    "    # set a title for the plot\n",
    "    if len(all_rects) == 0:\n",
    "        ax.title.set_text('Bin {}'.format('?'))\n",
    "    else:\n",
    "        ax.title.set_text('Bin {}'.format(rid))\n",
    "\n",
    "    # show the plot\n",
    "    plt.show()"
   ]
  },
  {
   "cell_type": "code",
   "execution_count": 3,
   "metadata": {},
   "outputs": [],
   "source": [
    "def check_bin_full(rectangle, rid):\n",
    "    if rectangle is False:\n",
    "        print(\"Could not pack in bin {} anymore!!!!!!!\".format(rid))\n",
    "    return rectangle"
   ]
  },
  {
   "cell_type": "code",
   "execution_count": 4,
   "metadata": {},
   "outputs": [
    {
     "data": {
      "image/png": "[encoded data removed]",
      "text/plain": [
       "<Figure size 360x360 with 1 Axes>"
      ]
     },
     "metadata": {
      "needs_background": "light"
     },
     "output_type": "display_data"
    },
    {
     "data": {
      "image/png": "[encoded data removed]",
      "text/plain": [
       "<Figure size 360x360 with 1 Axes>"
      ]
     },
     "metadata": {
      "needs_background": "light"
     },
     "output_type": "display_data"
    },
    {
     "data": {
      "image/png": "[encoded data removed]",
      "text/plain": [
       "<Figure size 360x360 with 1 Axes>"
      ]
     },
     "metadata": {
      "needs_background": "light"
     },
     "output_type": "display_data"
    },
    {
     "data": {
      "image/png": "[encoded data removed]",
      "text/plain": [
       "<Figure size 360x360 with 1 Axes>"
      ]
     },
     "metadata": {
      "needs_background": "light"
     },
     "output_type": "display_data"
    },
    {
     "data": {
      "image/png": "[encoded data removed]",
      "text/plain": [
       "<Figure size 360x360 with 1 Axes>"
      ]
     },
     "metadata": {
      "needs_background": "light"
     },
     "output_type": "display_data"
    },
    {
     "name": "stdout",
     "output_type": "stream",
     "text": [
      "Could not pack in bin 0 anymore!!!!!!!\n"
     ]
    },
    {
     "data": {
      "image/png": "[encoded data removed]",
      "text/plain": [
       "<Figure size 360x360 with 1 Axes>"
      ]
     },
     "metadata": {
      "needs_background": "light"
     },
     "output_type": "display_data"
    },
    {
     "data": {
      "image/png": "[encoded data removed]",
      "text/plain": [
       "<Figure size 360x360 with 1 Axes>"
      ]
     },
     "metadata": {
      "needs_background": "light"
     },
     "output_type": "display_data"
    },
    {
     "data": {
      "image/png": "[encoded data removed]",
      "text/plain": [
       "<Figure size 360x360 with 1 Axes>"
      ]
     },
     "metadata": {
      "needs_background": "light"
     },
     "output_type": "display_data"
    },
    {
     "data": {
      "image/png": "[encoded data removed]",
      "text/plain": [
       "<Figure size 360x360 with 1 Axes>"
      ]
     },
     "metadata": {
      "needs_background": "light"
     },
     "output_type": "display_data"
    },
    {
     "data": {
      "image/png": "[encoded data removed]",
      "text/plain": [
       "<Figure size 360x360 with 1 Axes>"
      ]
     },
     "metadata": {
      "needs_background": "light"
     },
     "output_type": "display_data"
    },
    {
     "data": {
      "image/png": "[encoded data removed]",
      "text/plain": [
       "<Figure size 360x360 with 1 Axes>"
      ]
     },
     "metadata": {
      "needs_background": "light"
     },
     "output_type": "display_data"
    },
    {
     "data": {
      "image/png": "[encoded data removed]",
      "text/plain": [
       "<Figure size 360x360 with 1 Axes>"
      ]
     },
     "metadata": {
      "needs_background": "light"
     },
     "output_type": "display_data"
    },
    {
     "data": {
      "image/png": "[encoded data removed]",
      "text/plain": [
       "<Figure size 360x360 with 1 Axes>"
      ]
     },
     "metadata": {
      "needs_background": "light"
     },
     "output_type": "display_data"
    },
    {
     "data": {
      "image/png": "[encoded data removed]",
      "text/plain": [
       "<Figure size 360x360 with 1 Axes>"
      ]
     },
     "metadata": {
      "needs_background": "light"
     },
     "output_type": "display_data"
    },
    {
     "name": "stdout",
     "output_type": "stream",
     "text": [
      "Could not pack in bin 1 anymore!!!!!!!\n"
     ]
    },
    {
     "data": {
      "image/png": "[encoded data removed]",
      "text/plain": [
       "<Figure size 360x360 with 1 Axes>"
      ]
     },
     "metadata": {
      "needs_background": "light"
     },
     "output_type": "display_data"
    },
    {
     "name": "stdout",
     "output_type": "stream",
     "text": [
      "bin 0 length： 4\n",
      "bin 1 length： 9\n"
     ]
    }
   ],
   "source": [
    "import random\n",
    "from time import sleep\n",
    "\n",
    "count = 0\n",
    "flag0, flag1, flag2 = True, True, True\n",
    "\n",
    "for i in range (100):\n",
    "\n",
    "    rid = random.randint(0, 1) \n",
    "    if flag0 == False and flag1 == True:\n",
    "        rid = 1\n",
    "    elif flag0 == True and flag1 == False:\n",
    "        rid = 0\n",
    "    elif flag0 == False and flag1 == False:\n",
    "        break\n",
    "    # print(\"rid\", rid)\n",
    "\n",
    "    if rid ==0:\n",
    "        rectangle0 = packer0.add_rect(random.randint(5, 8), random.randint(15, 20), rid=0)\n",
    "        all_rects_0 = packer0.rect_list()\n",
    "        flag0 = check_bin_full(rectangle0, rid)\n",
    "        plot(all_rects_0)\n",
    "\n",
    "    elif rid ==1:\n",
    "        rectangle1 = packer1.add_rect(random.randint(8, 10), random.randint(8, 10), rid=1)\n",
    "        all_rects_1 = packer1.rect_list()\n",
    "        flag1 = check_bin_full(rectangle1, rid)\n",
    "        plot(all_rects_1)\n",
    "\n",
    "    # elif rid ==2:\n",
    "    #     rectangle2 = packer2.add_rect(random.randint(5, 8), random.randint(15, 20), rid=2)\n",
    "    #     print(\"bin 2 length：\", len(packer2.rect_list()))\n",
    "    #     all_rects_2 = packer2.rect_list()\n",
    "    #     for_dynamic_plot_rectangle().plot(all_rects_2)\n",
    "    #     flag2 = check_bin_full(rectangle2, rid)\n",
    "print(\"bin 0 length：\", len(packer0.rect_list()))\n",
    "print(\"bin 1 length：\", len(packer1.rect_list()))"
   ]
  },
  {
   "attachments": {},
   "cell_type": "markdown",
   "metadata": {},
   "source": [
    "# dynamic Done"
   ]
  },
  {
   "cell_type": "code",
   "execution_count": 8,
   "metadata": {},
   "outputs": [
    {
     "name": "stdout",
     "output_type": "stream",
     "text": [
      "[(0, 0, 0, 8, 8, 1), (0, 8, 0, 10, 9, 1), (0, 0, 8, 8, 8, 1), (0, 18, 0, 10, 8, 1), (0, 18, 8, 8, 8, 1), (0, 8, 9, 10, 8, 1), (0, 18, 16, 9, 8, 1), (0, 0, 16, 8, 10, 1), (0, 8, 17, 10, 10, 1)]\n",
      "(0, 8, 17, 10, 10, 1)\n"
     ]
    }
   ],
   "source": [
    "print(all_rects_1)\n",
    "# get the last of the list\n",
    "print(all_rects_1[-1])"
   ]
  },
  {
   "cell_type": "code",
   "execution_count": null,
   "metadata": {},
   "outputs": [],
   "source": []
  }
 ],
 "metadata": {
  "kernelspec": {
   "display_name": "Python 3",
   "language": "python",
   "name": "python3"
  },
  "language_info": {
   "codemirror_mode": {
    "name": "ipython",
    "version": 3
   },
   "file_extension": ".py",
   "mimetype": "text/x-python",
   "name": "python",
   "nbconvert_exporter": "python",
   "pygments_lexer": "ipython3",
   "version": "3.8.10"
  },
  "orig_nbformat": 4,
  "vscode": {
   "interpreter": {
    "hash": "767d51c1340bd893661ea55ea3124f6de3c7a262a8b4abca0554b478b1e2ff90"
   }
  }
 },
 "nbformat": 4,
 "nbformat_minor": 2
}
